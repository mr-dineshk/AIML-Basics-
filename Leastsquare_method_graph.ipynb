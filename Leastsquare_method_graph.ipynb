{
  "nbformat": 4,
  "nbformat_minor": 0,
  "metadata": {
    "colab": {
      "provenance": [],
      "authorship_tag": "ABX9TyN6pvvZkoZ97q+GLkDOhkOh",
      "include_colab_link": true
    },
    "kernelspec": {
      "name": "python3",
      "display_name": "Python 3"
    },
    "language_info": {
      "name": "python"
    }
  },
  "cells": [
    {
      "cell_type": "markdown",
      "metadata": {
        "id": "view-in-github",
        "colab_type": "text"
      },
      "source": [
        "<a href=\"https://colab.research.google.com/github/mr-dineshk/AIML-Basics-/blob/master/Leastsquare_method_graph.ipynb\" target=\"_parent\"><img src=\"https://colab.research.google.com/assets/colab-badge.svg\" alt=\"Open In Colab\"/></a>"
      ]
    },
    {
      "cell_type": "code",
      "execution_count": 5,
      "metadata": {
        "colab": {
          "base_uri": "https://localhost:8080/",
          "height": 767
        },
        "id": "X9Jvq0DzXDIO",
        "outputId": "b4a699a7-99ca-4ca0-c8e3-a9117a8df13f"
      },
      "outputs": [
        {
          "output_type": "stream",
          "name": "stdout",
          "text": [
            "\n",
            "*** LEAST SQUARE METHOD REPRESENT IN GRAPH ***\n",
            "\n",
            "\n",
            "Enter no of Values : 5\n",
            "\n",
            "Enter value of X : 3\n",
            "\n",
            "Enter value of X : 4\n",
            "\n",
            "Enter value of X : 5\n",
            "\n",
            "Enter value of X : 6\n",
            "\n",
            "Enter value of X : 7\n",
            "\n",
            "Enter value of Y : 2.5\n",
            "\n",
            "Enter value of Y : 3.2\n",
            "\n",
            "Enter value of Y : 3.8\n",
            "\n",
            "Enter value of Y : 6.5\n",
            "\n",
            "Enter value of Y : 11.5\n",
            "\n",
            "Distance : 8.81100\n"
          ]
        },
        {
          "output_type": "display_data",
          "data": {
            "text/plain": [
              "<Figure size 432x288 with 1 Axes>"
            ],
            "image/png": "[encoded data removed]"
          },
          "metadata": {
            "needs_background": "light"
          }
        }
      ],
      "source": [
        "import numpy as np\n",
        "from sympy import symbols, Eq, solve\n",
        "import matplotlib.pyplot as plt\n",
        "\n",
        "print(\"\\n*** LEAST SQUARE METHOD REPRESENT IN GRAPH ***\\n\\n\")\n",
        "n = int(input(\"Enter no of Values : \"))\n",
        "x_values = []\n",
        "y_values = []\n",
        "x_squares_value = []\n",
        "xy_values = []\n",
        "d_values = []\n",
        "d1_values = []\n",
        "sum_of_x = 0\n",
        "sum_of_y = 0\n",
        "sum_of_x_square = 0\n",
        "sum_of_xy = 0\n",
        "a, b = symbols('a, b')\n",
        "\n",
        "for i in range(0, n):\n",
        "  x = float(input(\"\\nEnter value of X : \"))\n",
        "  x_values.append(x)\n",
        "for i in range(0,n):\n",
        "  y = float(input(\"\\nEnter value of Y : \"))\n",
        "  y_values.append(y)\n",
        "\n",
        "for i in range(0, n):\n",
        "  xy = x_values[i] * y_values[i]\n",
        "  xy_values.append(xy)\n",
        "\n",
        "x_squares_value = np.square(x_values)\n",
        "sum_of_x = np.sum(x_values)\n",
        "sum_of_y = np.sum(y_values)\n",
        "sum_of_x_square = np.sum(x_squares_value)\n",
        "sum_of_xy = np.sum(xy_values)\n",
        "\n",
        "eq1 = n * a + b * sum_of_x\n",
        "eq2 = a * sum_of_x + b * sum_of_x_square\n",
        "\n",
        "eq1 = Eq((eq1), sum_of_y)\n",
        "eq2 = Eq((eq2), sum_of_xy)\n",
        "\n",
        "solution = solve((eq1, eq2), (a, b))\n",
        "\n",
        "a = solution.get(a)\n",
        "b = solution.get(b)\n",
        "\n",
        "for i in range(0, n):\n",
        "  d = (y_values[i] - (a +  x_values[i] * b ))\n",
        "  d_values.append(d)\n",
        "  d1 = (a + x_values[i] * b)\n",
        "  d1_values.append(d1)\n",
        "  \n",
        "d_square_values = np.square(d_values)\n",
        "sum_of_d_square = np.sum(d_square_values)\n",
        "print(\"\\nDistance : {:.5f}\".format(sum_of_d_square))\n",
        "\n",
        "\n",
        "plt.scatter(x_values, y_values)\n",
        "plt.plot(x_values, d1_values)\n",
        "plt.show()"
      ]
    }
  ]
}