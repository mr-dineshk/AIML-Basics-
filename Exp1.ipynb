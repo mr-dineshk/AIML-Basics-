{
  "nbformat": 4,
  "nbformat_minor": 0,
  "metadata": {
    "colab": {
      "provenance": [],
      "authorship_tag": "ABX9TyMd5j7tCM318SSZguVFgMfM",
      "include_colab_link": true
    },
    "kernelspec": {
      "name": "python3",
      "display_name": "Python 3"
    },
    "language_info": {
      "name": "python"
    }
  },
  "cells": [
    {
      "cell_type": "markdown",
      "metadata": {
        "id": "view-in-github",
        "colab_type": "text"
      },
      "source": [
        "<a href=\"https://colab.research.google.com/github/mr-dineshk/AIML-Basics-/blob/master/Exp1.ipynb\" target=\"_parent\"><img src=\"https://colab.research.google.com/assets/colab-badge.svg\" alt=\"Open In Colab\"/></a>"
      ]
    },
    {
      "cell_type": "code",
      "execution_count": null,
      "metadata": {
        "colab": {
          "base_uri": "https://localhost:8080/"
        },
        "id": "WkHtTJHP78nt",
        "outputId": "39c88508-8204-4181-a2ae-72eb0844d791"
      },
      "outputs": [
        {
          "output_type": "stream",
          "name": "stdout",
          "text": [
            "Following is Breadth First Traversal (starting from vertex 2)\n",
            "2 0 3 1 "
          ]
        }
      ],
      "source": [
        "from collections import defaultdict\n",
        "class Graph:\n",
        "  def __init__(self):\n",
        "    self.graph = defaultdict(list)\n",
        "  def addEdge(self,u,v):\n",
        "    self.graph[u].append(v)\n",
        "  def BFS(self, s):\n",
        "    visited = [False] * (len(self.graph))\n",
        "    queue = []\n",
        "    queue.append(s)\n",
        "    visited[s] = True\n",
        "    while queue:\n",
        "      s = queue.pop(0)\n",
        "      print (s, end = \" \")\n",
        "      for i in self.graph[s]:\n",
        "        if visited[i] == False:\n",
        "          queue.append(i)\n",
        "          visited[i] = True\n",
        "\n",
        "g = Graph()\n",
        "g.addEdge(0, 1)\n",
        "g.addEdge(0, 2)\n",
        "g.addEdge(1, 2)\n",
        "g.addEdge(2, 0)\n",
        "g.addEdge(2, 3)\n",
        "g.addEdge(3, 3)\n",
        "print (\"Following is Breadth First Traversal (starting from vertex 2)\")\n",
        "g.BFS(2)"
      ]
    },
    {
      "cell_type": "code",
      "source": [
        "from collections import defaultdict\n",
        "class Graph:\n",
        "  def __init__(self):\n",
        "    self.graph = defaultdict(list)\n",
        "  def addEdge(self, u, v):\n",
        "    self.graph[u].append(v)\n",
        "  def DFSUtil(self, v, visited):\n",
        "    visited.add(v)\n",
        "    print(v, end=' ')\n",
        "    for neighbour in self.graph[v]:\n",
        "      if neighbour not in visited:\n",
        "        self.DFSUtil(neighbour, visited)\n",
        "  def DFS(self, v):\n",
        "    visited = set()\n",
        "    self.DFSUtil(v, visited)\n",
        "if __name__ == \"__main__\":\n",
        "  g = Graph()\n",
        "  g.addEdge(0, 1)\n",
        "  g.addEdge(0, 2)\n",
        "  g.addEdge(1, 2)\n",
        "  g.addEdge(2, 0)\n",
        "  g.addEdge(2, 3)\n",
        "  g.addEdge(3, 3)\n",
        "  print(\"Following is DFS from (starting from vertex 2)\")\n",
        "  g.DFS(2)"
      ],
      "metadata": {
        "colab": {
          "base_uri": "https://localhost:8080/"
        },
        "id": "7vAXpImcTQjc",
        "outputId": "ef02e1a3-ec7d-4036-a017-b6858a11207b"
      },
      "execution_count": 1,
      "outputs": [
        {
          "output_type": "stream",
          "name": "stdout",
          "text": [
            "Following is DFS from (starting from vertex 2)\n",
            "2 0 1 3 "
          ]
        }
      ]
    }
  ]
}